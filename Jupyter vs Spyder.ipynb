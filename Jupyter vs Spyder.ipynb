{
 "cells": [
  {
   "cell_type": "markdown",
   "metadata": {},
   "source": [
    "In many applications we have binary 1/0 indicator variables indicating group or category membership in our data. Often in propensity score matching we want to assess balance in these characteristics before and after matching. It seems like using pandas 'groupby' would be an easy way to do this"
   ]
  },
  {
   "cell_type": "code",
   "execution_count": 2,
   "metadata": {},
   "outputs": [
    {
     "name": "stdout",
     "output_type": "stream",
     "text": [
      "   ID  female  treat  score\n",
      "0   1       1      0   10.0\n",
      "1   2       0      0    7.5\n",
      "2   3       1      0    6.3\n",
      "3   4       0      0    7.2\n",
      "4   5       1      0    3.1\n",
      "5   6       0      1    7.2\n",
      "6   7       1      1    9.0\n",
      "7   8       0      1   10.0\n",
      "8   9       1      1   10.0\n",
      "9  10       0      1    6.5\n",
      "<class 'pandas.core.frame.DataFrame'>\n",
      "RangeIndex: 10 entries, 0 to 9\n",
      "Data columns (total 4 columns):\n",
      "ID        10 non-null int64\n",
      "female    10 non-null int64\n",
      "treat     10 non-null int64\n",
      "score     10 non-null float64\n",
      "dtypes: float64(1), int64(3)\n",
      "memory usage: 400.0 bytes\n"
     ]
    }
   ],
   "source": [
    "# create some data\n",
    "import pandas as pd\n",
    "import numpy as np\n",
    "\n",
    "data = {'treat' :[0,0,0,0,0,1,1,1,1,1],\n",
    "        'female':[1,0,1,0,1,0,1,0,1,0],\n",
    "         'score':[10,7.5,6.3,7.2,3.1,7.2,9,10,10,6.5],\n",
    "         'ID':[1,2,3,4,5,6,7,8,9,10]\n",
    "}\n",
    "\n",
    "# convert to a data frame\n",
    "df = pd.DataFrame(data,columns=['ID','female','treat','score'])\n",
    "print(df)\n",
    "\n",
    "df.info()"
   ]
  },
  {
   "cell_type": "markdown",
   "metadata": {},
   "source": [
    "Using group by the results are not intuitive in spyder, it looks like pandas is doing some kind of weird rounding to the nearest integer, but in Jupyter Notebooks I get the solution I need! "
   ]
  },
  {
   "cell_type": "code",
   "execution_count": 6,
   "metadata": {},
   "outputs": [
    {
     "data": {
      "text/plain": [
       "treat\n",
       "0    0.6\n",
       "1    0.4\n",
       "Name: female, dtype: float64"
      ]
     },
     "execution_count": 6,
     "metadata": {},
     "output_type": "execute_result"
    }
   ],
   "source": [
    "# asses balance between treatments and controls\n",
    "df.groupby('treat')['female'].mean() # proportion of females in treatment vs control"
   ]
  },
  {
   "cell_type": "code",
   "execution_count": null,
   "metadata": {
    "collapsed": true
   },
   "outputs": [],
   "source": []
  }
 ],
 "metadata": {
  "kernelspec": {
   "display_name": "Python 3",
   "language": "python",
   "name": "python3"
  },
  "language_info": {
   "codemirror_mode": {
    "name": "ipython",
    "version": 3
   },
   "file_extension": ".py",
   "mimetype": "text/x-python",
   "name": "python",
   "nbconvert_exporter": "python",
   "pygments_lexer": "ipython3",
   "version": "3.6.3"
  }
 },
 "nbformat": 4,
 "nbformat_minor": 2
}
